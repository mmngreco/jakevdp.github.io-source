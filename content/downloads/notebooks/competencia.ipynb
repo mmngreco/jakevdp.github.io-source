{
 "cells": [
  {
   "cell_type": "code",
   "execution_count": 2,
   "metadata": {
    "collapsed": true
   },
   "outputs": [],
   "source": [
    "from IPython.html import widgets\n",
    "from IPython.html.widgets import interact, interactive\n",
    "from IPython.display import IFrame, HTML, YouTubeVideo, ScribdDocument, Latex, Markdown\n",
    "import numpy as np\n",
    "from sympy import *\n",
    "import matplotlib.pyplot as plt"
   ]
  },
  {
   "cell_type": "code",
   "execution_count": 3,
   "metadata": {},
   "outputs": [],
   "source": [
    "init_printing()"
   ]
  },
  {
   "cell_type": "code",
   "execution_count": 4,
   "metadata": {
    "collapsed": false
   },
   "outputs": [],
   "source": [
    "%matplotlib inline"
   ]
  },
  {
   "cell_type": "markdown",
   "metadata": {},
   "source": [
    "# MERCADO MUNDIAL COMPETITIVO:\n",
    "\n",
    "Supongamos un mercado mundial mundial competitivo _[1]_, por un lado tenemos la oferta de cada una de la empresas que forman el mercado y por otro la demanda.\n",
    "\n",
    "## La Oferta\n",
    "\n",
    "Tenemos 3 países o sectores, las N empresas de cada país tienen una curva de costes cómo muestra la tabla.\n",
    "\n",
    "| País  |N empresas|Costes unitarios $C(q_i)$       |\n",
    "|:---:  |:--------:|:-----------------------------: |\n",
    "|A      | 100      |$= \\frac{q_a^2}{2} + 2q_a + 10$ |\n",
    "|B      |  50      |$= \\frac{q_b^2}{10} + 3q_b + 12$|\n",
    "|C      | 100      |$= \\frac{q_c^2}{2} + 2$         |\n",
    "\n",
    "## La Demanda\n",
    "\n",
    "Los consumidores tienen una demanda que depende del precio, y se refleja en la siguiente expresión:\n",
    "\n",
    "\\begin{equation}\n",
    "Q^D = 98650 - 19350 P\n",
    "\\end{equation}\n",
    "\n",
    "## Se pide\n",
    "\n",
    "Hallar:\n",
    "\n",
    "- Las cantidades producidas ($q_i$)\n",
    "- Beneficios ($\\pi_i$)\n",
    "- Precio de Equilibrio ($p$)\n",
    "\n",
    "_[1]: Esto implica que los productores son precio-aceptantes, es decir, que el precio es una variable exógena para los productores._"
   ]
  },
  {
   "cell_type": "code",
   "execution_count": 5,
   "metadata": {
    "collapsed": true
   },
   "outputs": [],
   "source": [
    "# Se crean las variables necesarias\n",
    "qa, qb, qc, q, Qd, P, pi, Q = symbols('q_a q_b q_c q Q^d P p_i Q')"
   ]
  },
  {
   "cell_type": "markdown",
   "metadata": {},
   "source": [
    "## COSTES"
   ]
  },
  {
   "cell_type": "code",
   "execution_count": 6,
   "metadata": {
    "collapsed": false
   },
   "outputs": [
    {
     "data": {
      "image/png": "[encoded data removed]",
      "text/latex": [
       "$$\\frac{q_{a}^{2}}{6} + 2 q_{a} + 10$$"
      ],
      "text/plain": [
       "  2            \n",
       "qₐ             \n",
       "─── + 2⋅qₐ + 10\n",
       " 6             "
      ]
     },
     "execution_count": 6,
     "metadata": {},
     "output_type": "execute_result"
    }
   ],
   "source": [
    "costes_a = qa ** 2 / 6 + 2 * qa + 10\n",
    "costes_a"
   ]
  },
  {
   "cell_type": "code",
   "execution_count": 7,
   "metadata": {
    "collapsed": false
   },
   "outputs": [
    {
     "data": {
      "image/png": "[encoded data removed]",
      "text/latex": [
       "$$\\frac{q_{b}^{2}}{10} + 3 q_{b} + 12$$"
      ],
      "text/plain": [
       "   2             \n",
       "q_b              \n",
       "──── + 3⋅q_b + 12\n",
       " 10              "
      ]
     },
     "execution_count": 7,
     "metadata": {},
     "output_type": "execute_result"
    }
   ],
   "source": [
    "costes_b = qb ** 2 / 10 + 3 * qb + 12\n",
    "costes_b"
   ]
  },
  {
   "cell_type": "code",
   "execution_count": 8,
   "metadata": {
    "collapsed": false
   },
   "outputs": [
    {
     "data": {
      "image/png": "[encoded data removed]",
      "text/latex": [
       "$$\\frac{q_{c}^{2}}{2} + 2$$"
      ],
      "text/plain": [
       "   2    \n",
       "q_c     \n",
       "──── + 2\n",
       " 2      "
      ]
     },
     "execution_count": 8,
     "metadata": {},
     "output_type": "execute_result"
    }
   ],
   "source": [
    "costes_c = qc ** 2 / 2 + 2\n",
    "costes_c"
   ]
  },
  {
   "cell_type": "markdown",
   "metadata": {},
   "source": [
    "## DEMANDA"
   ]
  },
  {
   "cell_type": "code",
   "execution_count": 9,
   "metadata": {
    "collapsed": false
   },
   "outputs": [
    {
     "data": {
      "image/png": "[encoded data removed]",
      "text/latex": [
       "$$- 19350 P + 98650$$"
      ],
      "text/plain": [
       "-19350⋅P + 98650"
      ]
     },
     "execution_count": 9,
     "metadata": {},
     "output_type": "execute_result"
    }
   ],
   "source": [
    "q_dda = 98650 - 19350 * P\n",
    "q_dda"
   ]
  },
  {
   "cell_type": "code",
   "execution_count": 10,
   "metadata": {
    "collapsed": false
   },
   "outputs": [
    {
     "data": {
      "image/png": "[encoded data removed]",
      "text/latex": [
       "$$- \\frac{Q}{19350} + \\frac{1973}{387}$$"
      ],
      "text/plain": [
       "    Q     1973\n",
       "- ───── + ────\n",
       "  19350   387 "
      ]
     },
     "execution_count": 10,
     "metadata": {},
     "output_type": "execute_result"
    }
   ],
   "source": [
    "p_dda = solve(Eq(Q, q_dda), P)[-1]\n",
    "p_dda"
   ]
  },
  {
   "cell_type": "markdown",
   "metadata": {},
   "source": [
    "## OFERTA"
   ]
  },
  {
   "cell_type": "code",
   "execution_count": 11,
   "metadata": {
    "collapsed": true
   },
   "outputs": [],
   "source": [
    "q_oferta = 100 * qa + 50 * qb + 100 * qc"
   ]
  },
  {
   "cell_type": "markdown",
   "metadata": {},
   "source": [
    "Dados los costes, necesitamos calcular los costes marginales, para eso derivamos la curva de costes de cada tipo empresa usando el método `diff()`. \n",
    "\n",
    "Por ejemplo la derivada de los costes de la empresa del país A son:"
   ]
  },
  {
   "cell_type": "code",
   "execution_count": 12,
   "metadata": {},
   "outputs": [
    {
     "data": {
      "image/png": "[encoded data removed]",
      "text/latex": [
       "$$\\frac{q_{a}}{3} + 2$$"
      ],
      "text/plain": [
       "qₐ    \n",
       "── + 2\n",
       "3     "
      ]
     },
     "execution_count": 12,
     "metadata": {},
     "output_type": "execute_result"
    }
   ],
   "source": [
    "costes_a.diff(qa)"
   ]
  },
  {
   "cell_type": "code",
   "execution_count": 13,
   "metadata": {
    "collapsed": false
   },
   "outputs": [],
   "source": [
    "coste_list = [costes_a, costes_b, costes_c]\n",
    "q_list = [qa, qb, qc]\n",
    "pais_list = ['a', 'b', 'c']\n",
    "coste_marginal_list = []\n",
    "\n",
    "for i in range(len(coste_list)):\n",
    "    # creamos las variables coste_marginal de cada país\n",
    "    # como la derivada de sus costes respecto de q.\n",
    "    fmt = 'coste_marginal_%s'\n",
    "    cmg_i = coste_list[i].diff(q_list[i])\n",
    "    globals()[fmt % pais_list[i]] = cmg_i\n",
    "    coste_marginal_list += [cmg_i]\n"
   ]
  },
  {
   "cell_type": "markdown",
   "metadata": {},
   "source": [
    "Lista de costes marginales:"
   ]
  },
  {
   "cell_type": "code",
   "execution_count": 14,
   "metadata": {},
   "outputs": [
    {
     "data": {
      "image/png": "[encoded data removed]",
      "text/latex": [
       "$$\\left [ \\frac{q_{a}}{3} + 2, \\quad \\frac{q_{b}}{5} + 3, \\quad q_{c}\\right ]$$"
      ],
      "text/plain": [
       "⎡qₐ      q_b         ⎤\n",
       "⎢── + 2, ─── + 3, q_c⎥\n",
       "⎣3        5          ⎦"
      ]
     },
     "execution_count": 14,
     "metadata": {},
     "output_type": "execute_result"
    }
   ],
   "source": [
    "coste_marginal_list"
   ]
  },
  {
   "cell_type": "markdown",
   "metadata": {},
   "source": [
    "Para hallar la cantidad que se intercambiará en el equilibrio tenemos que igualar los costes marginales y el precio, ¿por qué? si no lo sabes, deja leer y repasa la teoría. Para esto vamos a usar la función para igualar dos expresiones `Eq()`. Para resulver la igualdad tenemos que usar `solve()` y por último necesitaremos sustituir el valor de `P` en la oferta para tener la cantidad:"
   ]
  },
  {
   "cell_type": "code",
   "execution_count": 18,
   "metadata": {
    "collapsed": false
   },
   "outputs": [
    {
     "data": {
      "image/png": "[encoded data removed]",
      "text/latex": [
       "$$P = \\frac{q_{a}}{3} + 2$$"
      ],
      "text/plain": [
       "    qₐ    \n",
       "P = ── + 2\n",
       "    3     "
      ]
     },
     "execution_count": 18,
     "metadata": {},
     "output_type": "execute_result"
    }
   ],
   "source": [
    "precio_igual_cmg_a = Eq(P, coste_marginal_a)\n",
    "precio_igual_cmg_a"
   ]
  },
  {
   "cell_type": "code",
   "execution_count": 19,
   "metadata": {},
   "outputs": [
    {
     "data": {
      "image/png": "[encoded data removed]",
      "text/latex": [
       "$$3 P - 6$$"
      ],
      "text/plain": [
       "3⋅P - 6"
      ]
     },
     "execution_count": 19,
     "metadata": {},
     "output_type": "execute_result"
    }
   ],
   "source": [
    "solucion_a = solve(precio_igual_cmg_a, qa)[-1]\n",
    "solucion_a"
   ]
  },
  {
   "cell_type": "code",
   "execution_count": 21,
   "metadata": {
    "collapsed": false
   },
   "outputs": [
    {
     "data": {
      "image/png": "[encoded data removed]",
      "text/latex": [
       "$$300 P + 50 q_{b} + 100 q_{c} - 600$$"
      ],
      "text/plain": [
       "300⋅P + 50⋅q_b + 100⋅q_c - 600"
      ]
     },
     "execution_count": 21,
     "metadata": {},
     "output_type": "execute_result"
    }
   ],
   "source": [
    "q_oferta_parcial = q_oferta.subs(qa, solucion_a)\n",
    "q_oferta_parcial"
   ]
  },
  {
   "cell_type": "code",
   "execution_count": 22,
   "metadata": {
    "collapsed": false
   },
   "outputs": [
    {
     "data": {
      "image/png": "[encoded data removed]",
      "text/latex": [
       "$$P = \\frac{q_{b}}{5} + 3$$"
      ],
      "text/plain": [
       "    q_b    \n",
       "P = ─── + 3\n",
       "     5     "
      ]
     },
     "execution_count": 22,
     "metadata": {},
     "output_type": "execute_result"
    }
   ],
   "source": [
    "precio_igual_cmg_b = Eq(P, coste_marginal_b)\n",
    "precio_igual_cmg_b"
   ]
  },
  {
   "cell_type": "code",
   "execution_count": 23,
   "metadata": {},
   "outputs": [
    {
     "data": {
      "image/png": "[encoded data removed]",
      "text/latex": [
       "$$5 P - 15$$"
      ],
      "text/plain": [
       "5⋅P - 15"
      ]
     },
     "execution_count": 23,
     "metadata": {},
     "output_type": "execute_result"
    }
   ],
   "source": [
    "solucion_b = solve(precio_igual_cmg_b, qb)[-1]\n",
    "solucion_b"
   ]
  },
  {
   "cell_type": "code",
   "execution_count": 24,
   "metadata": {
    "collapsed": false
   },
   "outputs": [
    {
     "data": {
      "image/png": "[encoded data removed]",
      "text/latex": [
       "$$550 P + 100 q_{c} - 1350$$"
      ],
      "text/plain": [
       "550⋅P + 100⋅q_c - 1350"
      ]
     },
     "execution_count": 24,
     "metadata": {},
     "output_type": "execute_result"
    }
   ],
   "source": [
    "q_oferta_parcial = q_oferta_parcial.subs(qb, solucion_b)\n",
    "q_oferta_parcial"
   ]
  },
  {
   "cell_type": "code",
   "execution_count": 25,
   "metadata": {
    "collapsed": false
   },
   "outputs": [
    {
     "data": {
      "image/png": "[encoded data removed]",
      "text/latex": [
       "$$P = q_{c}$$"
      ],
      "text/plain": [
       "P = q_c"
      ]
     },
     "execution_count": 25,
     "metadata": {},
     "output_type": "execute_result"
    }
   ],
   "source": [
    "precio_igual_cmg_c = Eq(P, coste_marginal_c)\n",
    "precio_igual_cmg_c"
   ]
  },
  {
   "cell_type": "code",
   "execution_count": 26,
   "metadata": {},
   "outputs": [
    {
     "data": {
      "image/png": "[encoded data removed]",
      "text/latex": [
       "$$P$$"
      ],
      "text/plain": [
       "P"
      ]
     },
     "execution_count": 26,
     "metadata": {},
     "output_type": "execute_result"
    }
   ],
   "source": [
    "solucion_c = solve(precio_igual_cmg_c, qc)[-1]\n",
    "solucion_c"
   ]
  },
  {
   "cell_type": "code",
   "execution_count": 27,
   "metadata": {
    "collapsed": false
   },
   "outputs": [
    {
     "data": {
      "image/png": "[encoded data removed]",
      "text/latex": [
       "$$650 P - 1350$$"
      ],
      "text/plain": [
       "650⋅P - 1350"
      ]
     },
     "execution_count": 27,
     "metadata": {},
     "output_type": "execute_result"
    }
   ],
   "source": [
    "q_oferta_parcial = q_oferta_parcial.subs(qc, solucion_c)\n",
    "q_oferta_parcial"
   ]
  },
  {
   "cell_type": "code",
   "execution_count": 76,
   "metadata": {
    "collapsed": false
   },
   "outputs": [
    {
     "name": "stdout",
     "output_type": "stream",
     "text": [
      "650*P - 1350\n",
      "650*P - 1350\n",
      "650*P - 1350\n"
     ]
    }
   ],
   "source": [
    "# alternativamente lo podemos hacer de forma recursiva con un bucle\n",
    "for i in range(len(coste_list)):\n",
    "    q_oferta = q_oferta.subs(vi[i], solve(Eq(P, coste_marginal_i[i]), vi[i])[-1])\n",
    "    print(q_oferta)"
   ]
  },
  {
   "cell_type": "code",
   "execution_count": 28,
   "metadata": {
    "collapsed": false
   },
   "outputs": [],
   "source": [
    "q_oferta_final = q_oferta_parcial"
   ]
  },
  {
   "cell_type": "code",
   "execution_count": 29,
   "metadata": {},
   "outputs": [
    {
     "data": {
      "image/png": "[encoded data removed]",
      "text/latex": [
       "$$650 P - 1350$$"
      ],
      "text/plain": [
       "650⋅P - 1350"
      ]
     },
     "execution_count": 29,
     "metadata": {},
     "output_type": "execute_result"
    }
   ],
   "source": [
    "q_oferta_final"
   ]
  },
  {
   "cell_type": "code",
   "execution_count": 30,
   "metadata": {
    "collapsed": false
   },
   "outputs": [
    {
     "data": {
      "image/png": "[encoded data removed]",
      "text/latex": [
       "$$5$$"
      ],
      "text/plain": [
       "5"
      ]
     },
     "execution_count": 30,
     "metadata": {},
     "output_type": "execute_result"
    }
   ],
   "source": [
    "precio_equilibrio = solve(Eq(q_dda, q_oferta_final), P)[-1]\n",
    "precio_equilibrio"
   ]
  },
  {
   "cell_type": "code",
   "execution_count": 31,
   "metadata": {
    "collapsed": false
   },
   "outputs": [
    {
     "data": {
      "image/png": "[encoded data removed]",
      "text/latex": [
       "$$1900$$"
      ],
      "text/plain": [
       "1900"
      ]
     },
     "execution_count": 31,
     "metadata": {},
     "output_type": "execute_result"
    }
   ],
   "source": [
    "q_equilibrio = q_oferta_final.subs(P, precio_equilibrio)\n",
    "q_equilibrio"
   ]
  },
  {
   "cell_type": "markdown",
   "metadata": {},
   "source": [
    "## RESUMEN DE VARIABLES EN EL EQUILIBRIO"
   ]
  },
  {
   "cell_type": "code",
   "execution_count": 40,
   "metadata": {
    "collapsed": false
   },
   "outputs": [
    {
     "data": {
      "text/markdown": [
       "\n",
       "|Variables \\ Sector       | a | b | c |\n",
       "|:--    |--:|--:|--:|\n",
       "|$q =$  |9|10|5|\n",
       "|$Q =$  |900|500|500|\n",
       "|$\\pi =$|7/2|-2|21/2|\n"
      ],
      "text/plain": [
       "<IPython.core.display.Markdown object>"
      ]
     },
     "metadata": {},
     "output_type": "display_data"
    }
   ],
   "source": [
    "n_empresas = [100, 50, 100]\n",
    "q_i = []\n",
    "Q_i = []\n",
    "b_i = []\n",
    "n_i = []\n",
    "\n",
    "table_fmt = \"\"\"\n",
    "|Variables \\ Sector       | a | b | c |\n",
    "|:--    |--:|--:|--:|\n",
    "|$q =$  |{q_i}|\n",
    "|$Q =$  |{Q_i}|\n",
    "|$\\pi =$|{b_i}|\n",
    "\"\"\"\n",
    "\n",
    "for i in range(3):\n",
    "    qi = solve(Eq(precio_equilibrio, coste_marginal_list[i]), q_list[i])[-1]\n",
    "    p_igual_cmg = Eq(precio_equilibrio, coste_marginal_list[i])\n",
    "    b = precio_equilibrio * solve(p_igual_cmg, q_list[i])[-1] - coste_list[i].subs(q_list[i], qi)\n",
    "    q_i += [qi]\n",
    "    Q_i += [qi*n_empresas[i]]\n",
    "    b_i += [b]\n",
    "\n",
    "display(\n",
    "    Markdown(\n",
    "        table_fmt.format(\n",
    "            q_i=\"|\".join(map(str,q_i)), \n",
    "            Q_i=\"|\".join(map(str,Q_i)), \n",
    "            b_i=\"|\".join(map(str,b_i)))\n",
    "    ))"
   ]
  },
  {
   "cell_type": "markdown",
   "metadata": {},
   "source": [
    "Despejamos el precio de la oferta para tener la función inversa de demanda:"
   ]
  },
  {
   "cell_type": "code",
   "execution_count": 42,
   "metadata": {
    "collapsed": false
   },
   "outputs": [
    {
     "data": {
      "image/png": "[encoded data removed]",
      "text/latex": [
       "$$\\frac{Q}{650} + \\frac{27}{13}$$"
      ],
      "text/plain": [
       " Q    27\n",
       "─── + ──\n",
       "650   13"
      ]
     },
     "execution_count": 42,
     "metadata": {},
     "output_type": "execute_result"
    }
   ],
   "source": [
    "p_oferta = solve(Eq(Q, q_oferta_final), P)[-1]\n",
    "p_oferta"
   ]
  },
  {
   "cell_type": "code",
   "execution_count": 43,
   "metadata": {
    "collapsed": false
   },
   "outputs": [
    {
     "data": {
      "image/png": "[encoded data removed]",
      "text/latex": [
       "$$- \\frac{Q}{19350} + \\frac{1973}{387}$$"
      ],
      "text/plain": [
       "    Q     1973\n",
       "- ───── + ────\n",
       "  19350   387 "
      ]
     },
     "execution_count": 43,
     "metadata": {},
     "output_type": "execute_result"
    }
   ],
   "source": [
    "p_dda"
   ]
  },
  {
   "cell_type": "code",
   "execution_count": 47,
   "metadata": {
    "collapsed": false
   },
   "outputs": [
    {
     "data": {
      "image/png": "[encoded data removed]",
      "text/plain": [
       "<Figure size 432x288 with 1 Axes>"
      ]
     },
     "metadata": {},
     "output_type": "display_data"
    }
   ],
   "source": [
    "plot(p_dda, p_oferta, (Q, 0, q_equilibrio*1.2));"
   ]
  }
 ],
 "metadata": {
  "kernelspec": {
   "display_name": "Python 3",
   "language": "python",
   "name": "python3"
  },
  "language_info": {
   "codemirror_mode": {
    "name": "ipython",
    "version": 3
   },
   "file_extension": ".py",
   "mimetype": "text/x-python",
   "name": "python",
   "nbconvert_exporter": "python",
   "pygments_lexer": "ipython3",
   "version": "3.6.5"
  }
 },
 "nbformat": 4,
 "nbformat_minor": 2
}
